{
 "cells": [
  {
   "cell_type": "code",
   "execution_count": 2,
   "metadata": {
    "collapsed": false
   },
   "outputs": [],
   "source": [
    "import pandas as pd\n",
    "import numpy as np\n",
    "import scipy.stats\n",
    "import statsmodels.api as sm\n",
    "from pandasql import *\n",
    "import pandasql\n",
    "pd.set_option('max_row',10)\n",
    "from ggplot import *\n",
    "%matplotlib inline\n",
    "import matplotlib.pyplot as plt "
   ]
  },
  {
   "cell_type": "code",
   "execution_count": 3,
   "metadata": {
    "collapsed": false
   },
   "outputs": [
    {
     "data": {
      "text/plain": [
       "Index(['Unnamed: 0', 'UNIT', 'DATEn', 'TIMEn', 'Hour', 'DESCn', 'ENTRIESn_hourly', 'EXITSn_hourly', 'maxpressurei', 'maxdewpti', 'mindewpti', 'minpressurei', 'meandewpti', 'meanpressurei', 'fog', 'rain', 'meanwindspdi', 'mintempi', 'meantempi', 'maxtempi', 'precipi', 'thunder'], dtype='object')"
      ]
     },
     "execution_count": 3,
     "metadata": {},
     "output_type": "execute_result"
    }
   ],
   "source": [
    "sub=r\"C:\\Users\\karthik\\Downloads\\turnstile_data_master_with_weather.csv\"\n",
    "df=pd.read_csv(sub,parse_dates=True)\n",
    "df.columns"
   ]
  },
  {
   "cell_type": "code",
   "execution_count": 4,
   "metadata": {
    "collapsed": false
   },
   "outputs": [
    {
     "data": {
      "text/plain": [
       "array(['2011-05-01', '2011-05-01', '2011-05-01', ..., '2011-05-30',\n",
       "       '2011-05-30', '2011-05-30'], dtype=object)"
      ]
     },
     "execution_count": 4,
     "metadata": {},
     "output_type": "execute_result"
    }
   ],
   "source": [
    "df.DATEn.values"
   ]
  },
  {
   "cell_type": "code",
   "execution_count": 5,
   "metadata": {
    "collapsed": false
   },
   "outputs": [
    {
     "data": {
      "text/plain": [
       "array(['2011-05-01', '2011-05-01', '2011-05-01', ..., '2011-05-30',\n",
       "       '2011-05-30', '2011-05-30'], dtype=object)"
      ]
     },
     "execution_count": 5,
     "metadata": {},
     "output_type": "execute_result"
    }
   ],
   "source": [
    "df.DATEn.values"
   ]
  },
  {
   "cell_type": "code",
   "execution_count": 6,
   "metadata": {
    "collapsed": false
   },
   "outputs": [
    {
     "data": {
      "text/plain": [
       "Index(['Unnamed: 0', 'UNIT', 'DATEn', 'TIMEn', 'Hour', 'DESCn', 'ENTRIESn_hourly', 'EXITSn_hourly', 'maxpressurei', 'maxdewpti', 'mindewpti', 'minpressurei', 'meandewpti', 'meanpressurei', 'fog', 'rain', 'meanwindspdi', 'mintempi', 'meantempi', 'maxtempi', 'precipi', 'thunder'], dtype='object')"
      ]
     },
     "execution_count": 6,
     "metadata": {},
     "output_type": "execute_result"
    }
   ],
   "source": [
    "df.columns"
   ]
  },
  {
   "cell_type": "code",
   "execution_count": 7,
   "metadata": {
    "collapsed": false
   },
   "outputs": [
    {
     "data": {
      "text/plain": [
       "(1924409167.0, 0.019309634413792565)"
      ]
     },
     "execution_count": 7,
     "metadata": {},
     "output_type": "execute_result"
    }
   ],
   "source": [
    "rain=df.ENTRIESn_hourly[df.rain==0]\n",
    "no_rain= df.ENTRIESn_hourly[df.rain==1]\n",
    "M_r=np.mean(rain)\n",
    "M_nr=np.mean(no_rain)\n",
    "scipy.stats.mannwhitneyu(rain,no_rain)"
   ]
  },
  {
   "cell_type": "code",
   "execution_count": 8,
   "metadata": {
    "collapsed": false
   },
   "outputs": [],
   "source": [
    "df['date']=pd.to_datetime(df['DATEn'])\n",
    "df['week']=df.date.dt.weekday"
   ]
  },
  {
   "cell_type": "code",
   "execution_count": 9,
   "metadata": {
    "collapsed": false
   },
   "outputs": [
    {
     "data": {
      "text/plain": [
       "Index(['Unnamed: 0', 'UNIT', 'DATEn', 'TIMEn', 'Hour', 'DESCn', 'ENTRIESn_hourly', 'EXITSn_hourly', 'maxpressurei', 'maxdewpti', 'mindewpti', 'minpressurei', 'meandewpti', 'meanpressurei', 'fog', 'rain', 'meanwindspdi', 'mintempi', 'meantempi', 'maxtempi', 'precipi', 'thunder', 'date', 'week'], dtype='object')"
      ]
     },
     "execution_count": 9,
     "metadata": {},
     "output_type": "execute_result"
    }
   ],
   "source": [
    "df.columns"
   ]
  },
  {
   "cell_type": "code",
   "execution_count": 10,
   "metadata": {
    "collapsed": false,
    "scrolled": true
   },
   "outputs": [],
   "source": [
    "#df.week\n",
    "df.ENTRIESn_hourly\n",
    "df1=df[['ENTRIESn_hourly','week','EXITSn_hourly']]\n",
    "t=df1.groupby(['week'],as_index=False).sum()/30"
   ]
  },
  {
   "cell_type": "code",
   "execution_count": 11,
   "metadata": {
    "collapsed": false
   },
   "outputs": [
    {
     "data": {
      "text/html": [
       "<div style=\"max-height:1000px;max-width:1500px;overflow:auto;\">\n",
       "<table border=\"1\" class=\"dataframe\">\n",
       "  <thead>\n",
       "    <tr style=\"text-align: right;\">\n",
       "      <th></th>\n",
       "      <th>week</th>\n",
       "      <th>ENTRIESn_hourly</th>\n",
       "      <th>EXITSn_hourly</th>\n",
       "    </tr>\n",
       "  </thead>\n",
       "  <tbody>\n",
       "    <tr>\n",
       "      <th>0</th>\n",
       "      <td> 0.000000</td>\n",
       "      <td> 804336.533333</td>\n",
       "      <td> 644287.833333</td>\n",
       "    </tr>\n",
       "    <tr>\n",
       "      <th>1</th>\n",
       "      <td> 0.033333</td>\n",
       "      <td> 766598.466667</td>\n",
       "      <td> 613753.400000</td>\n",
       "    </tr>\n",
       "    <tr>\n",
       "      <th>2</th>\n",
       "      <td> 0.066667</td>\n",
       "      <td> 785421.200000</td>\n",
       "      <td> 629783.333333</td>\n",
       "    </tr>\n",
       "    <tr>\n",
       "      <th>3</th>\n",
       "      <td> 0.100000</td>\n",
       "      <td> 782888.300000</td>\n",
       "      <td> 626406.366667</td>\n",
       "    </tr>\n",
       "    <tr>\n",
       "      <th>4</th>\n",
       "      <td> 0.133333</td>\n",
       "      <td> 771025.766667</td>\n",
       "      <td> 618955.833333</td>\n",
       "    </tr>\n",
       "    <tr>\n",
       "      <th>5</th>\n",
       "      <td> 0.166667</td>\n",
       "      <td> 468136.833333</td>\n",
       "      <td> 393638.100000</td>\n",
       "    </tr>\n",
       "    <tr>\n",
       "      <th>6</th>\n",
       "      <td> 0.200000</td>\n",
       "      <td> 439337.133333</td>\n",
       "      <td> 374046.233333</td>\n",
       "    </tr>\n",
       "  </tbody>\n",
       "</table>\n",
       "</div>"
      ],
      "text/plain": [
       "       week  ENTRIESn_hourly  EXITSn_hourly\n",
       "0  0.000000    804336.533333  644287.833333\n",
       "1  0.033333    766598.466667  613753.400000\n",
       "2  0.066667    785421.200000  629783.333333\n",
       "3  0.100000    782888.300000  626406.366667\n",
       "4  0.133333    771025.766667  618955.833333\n",
       "5  0.166667    468136.833333  393638.100000\n",
       "6  0.200000    439337.133333  374046.233333"
      ]
     },
     "execution_count": 11,
     "metadata": {},
     "output_type": "execute_result"
    }
   ],
   "source": [
    "t"
   ]
  },
  {
   "cell_type": "code",
   "execution_count": 12,
   "metadata": {
    "collapsed": false
   },
   "outputs": [],
   "source": [
    "\n",
    "#t.index.name='days_in_week'\n",
    "t['week']=['mon','tue','wed','thu','fri','sat','sun']\n",
    "#t.rename(index={6:'sun',0:'mon',1:'tue',2:'wed',3:'thu',4:'fri',5:'sat'})\n",
    "#t.rename(columns={'ENTRIESn_hourly':'avg_number_entering/day','EXITSn_hourly':'avg_number_exiting/day'})\n",
    "t.columns=['days_in_week','avg_number_entering/day','avg_number_exiting/day']"
   ]
  },
  {
   "cell_type": "code",
   "execution_count": 13,
   "metadata": {
    "collapsed": false
   },
   "outputs": [
    {
     "data": {
      "text/html": [
       "<div style=\"max-height:1000px;max-width:1500px;overflow:auto;\">\n",
       "<table border=\"1\" class=\"dataframe\">\n",
       "  <thead>\n",
       "    <tr style=\"text-align: right;\">\n",
       "      <th></th>\n",
       "      <th>days_in_week</th>\n",
       "      <th>avg_number_entering/day</th>\n",
       "      <th>avg_number_exiting/day</th>\n",
       "    </tr>\n",
       "  </thead>\n",
       "  <tbody>\n",
       "    <tr>\n",
       "      <th>0</th>\n",
       "      <td> mon</td>\n",
       "      <td> 804336.533333</td>\n",
       "      <td> 644287.833333</td>\n",
       "    </tr>\n",
       "    <tr>\n",
       "      <th>1</th>\n",
       "      <td> tue</td>\n",
       "      <td> 766598.466667</td>\n",
       "      <td> 613753.400000</td>\n",
       "    </tr>\n",
       "    <tr>\n",
       "      <th>2</th>\n",
       "      <td> wed</td>\n",
       "      <td> 785421.200000</td>\n",
       "      <td> 629783.333333</td>\n",
       "    </tr>\n",
       "    <tr>\n",
       "      <th>3</th>\n",
       "      <td> thu</td>\n",
       "      <td> 782888.300000</td>\n",
       "      <td> 626406.366667</td>\n",
       "    </tr>\n",
       "    <tr>\n",
       "      <th>4</th>\n",
       "      <td> fri</td>\n",
       "      <td> 771025.766667</td>\n",
       "      <td> 618955.833333</td>\n",
       "    </tr>\n",
       "    <tr>\n",
       "      <th>5</th>\n",
       "      <td> sat</td>\n",
       "      <td> 468136.833333</td>\n",
       "      <td> 393638.100000</td>\n",
       "    </tr>\n",
       "    <tr>\n",
       "      <th>6</th>\n",
       "      <td> sun</td>\n",
       "      <td> 439337.133333</td>\n",
       "      <td> 374046.233333</td>\n",
       "    </tr>\n",
       "  </tbody>\n",
       "</table>\n",
       "</div>"
      ],
      "text/plain": [
       "  days_in_week  avg_number_entering/day  avg_number_exiting/day\n",
       "0          mon            804336.533333           644287.833333\n",
       "1          tue            766598.466667           613753.400000\n",
       "2          wed            785421.200000           629783.333333\n",
       "3          thu            782888.300000           626406.366667\n",
       "4          fri            771025.766667           618955.833333\n",
       "5          sat            468136.833333           393638.100000\n",
       "6          sun            439337.133333           374046.233333"
      ]
     },
     "execution_count": 13,
     "metadata": {},
     "output_type": "execute_result"
    }
   ],
   "source": [
    "t\n"
   ]
  },
  {
   "cell_type": "code",
   "execution_count": 14,
   "metadata": {
    "collapsed": false
   },
   "outputs": [],
   "source": [
    "p=ggplot(aes(x='days_in_week',y='avg_number_entering/day'),data=t)+geom_bar(position = 'stack',stat=\"identity\")+ggtitle('avg num of people enterying the subway')+labs('days_in_week','avg_number_entering/day')"
   ]
  },
  {
   "cell_type": "code",
   "execution_count": 15,
   "metadata": {
    "collapsed": false
   },
   "outputs": [
    {
     "data": {
      "image/png": "[encoded data removed]",
      "text/plain": [
       "<matplotlib.figure.Figure at 0xbe8d9b0>"
      ]
     },
     "metadata": {},
     "output_type": "display_data"
    },
    {
     "data": {
      "text/plain": [
       "<ggplot: (-9223372036842292974)>"
      ]
     },
     "execution_count": 15,
     "metadata": {},
     "output_type": "execute_result"
    }
   ],
   "source": [
    "p"
   ]
  },
  {
   "cell_type": "code",
   "execution_count": 16,
   "metadata": {
    "collapsed": false
   },
   "outputs": [],
   "source": [
    "a,b=t['avg_number_entering/day'][0:5].sum(),t['avg_number_entering/day'][5:].sum()"
   ]
  },
  {
   "cell_type": "code",
   "execution_count": 17,
   "metadata": {
    "collapsed": false
   },
   "outputs": [],
   "source": [
    "weekdays=pd.DataFrame({'avg_number_entering/day':[a,b],'days_in_week':['weekdays','weekend']})"
   ]
  },
  {
   "cell_type": "code",
   "execution_count": 18,
   "metadata": {
    "collapsed": false
   },
   "outputs": [
    {
     "data": {
      "text/html": [
       "<div style=\"max-height:1000px;max-width:1500px;overflow:auto;\">\n",
       "<table border=\"1\" class=\"dataframe\">\n",
       "  <thead>\n",
       "    <tr style=\"text-align: right;\">\n",
       "      <th></th>\n",
       "      <th>avg_number_entering/day</th>\n",
       "      <th>days_in_week</th>\n",
       "    </tr>\n",
       "  </thead>\n",
       "  <tbody>\n",
       "    <tr>\n",
       "      <th>0</th>\n",
       "      <td> 3910270.266667</td>\n",
       "      <td> weekdays</td>\n",
       "    </tr>\n",
       "    <tr>\n",
       "      <th>1</th>\n",
       "      <td>  907473.966667</td>\n",
       "      <td>  weekend</td>\n",
       "    </tr>\n",
       "  </tbody>\n",
       "</table>\n",
       "</div>"
      ],
      "text/plain": [
       "   avg_number_entering/day days_in_week\n",
       "0           3910270.266667     weekdays\n",
       "1            907473.966667      weekend"
      ]
     },
     "execution_count": 18,
     "metadata": {},
     "output_type": "execute_result"
    }
   ],
   "source": [
    "weekdays"
   ]
  },
  {
   "cell_type": "code",
   "execution_count": 19,
   "metadata": {
    "collapsed": false
   },
   "outputs": [],
   "source": [
    "#ggplot(aes(x='days_in_week',y='avg_number_entering/day'),data=weekdays)+ geom_bar(position = 'stack',stat=\"identity\")+ggtitle(\"weekdays vs weekends\")+labs('days_in_week','avg_number_entering/day')"
   ]
  },
  {
   "cell_type": "code",
   "execution_count": 20,
   "metadata": {
    "collapsed": false
   },
   "outputs": [
    {
     "data": {
      "text/plain": [
       "(-1.0000000186016107,\n",
       " 1.1698131028390986,\n",
       " -1.1137351467371908,\n",
       " 0.92593566103863434)"
      ]
     },
     "execution_count": 20,
     "metadata": {},
     "output_type": "execute_result"
    },
    {
     "data": {
      "image/png": "[encoded data removed]",
      "text/plain": [
       "<matplotlib.figure.Figure at 0xc786c50>"
      ]
     },
     "metadata": {},
     "output_type": "display_data"
    }
   ],
   "source": [
    "labels=['weekdays','weekend']\n",
    "sizes=[a,b]\n",
    "colors=['blue','green']\n",
    "exlore=[.2,0]\n",
    "plt.pie(sizes,explode=exlore,labels=labels,colors=colors,autopct='%8.1f%%', shadow=True, startangle=180)\n",
    "#plt.axes('equal')\n",
    "plt.axis('equal')\n"
   ]
  },
  {
   "cell_type": "code",
   "execution_count": 21,
   "metadata": {
    "collapsed": false
   },
   "outputs": [],
   "source": [
    "df2=df[['UNIT', 'date','ENTRIESn_hourly','Hour']]"
   ]
  },
  {
   "cell_type": "code",
   "execution_count": 22,
   "metadata": {
    "collapsed": false
   },
   "outputs": [
    {
     "data": {
      "text/html": [
       "<div style=\"max-height:1000px;max-width:1500px;overflow:auto;\">\n",
       "<table border=\"1\" class=\"dataframe\">\n",
       "  <thead>\n",
       "    <tr style=\"text-align: right;\">\n",
       "      <th></th>\n",
       "      <th>UNIT</th>\n",
       "      <th>date</th>\n",
       "      <th>ENTRIESn_hourly</th>\n",
       "      <th>Hour</th>\n",
       "    </tr>\n",
       "  </thead>\n",
       "  <tbody>\n",
       "    <tr>\n",
       "      <th>0   </th>\n",
       "      <td> R001</td>\n",
       "      <td>2011-05-01</td>\n",
       "      <td>    0</td>\n",
       "      <td>  1</td>\n",
       "    </tr>\n",
       "    <tr>\n",
       "      <th>1   </th>\n",
       "      <td> R001</td>\n",
       "      <td>2011-05-01</td>\n",
       "      <td>  217</td>\n",
       "      <td>  5</td>\n",
       "    </tr>\n",
       "    <tr>\n",
       "      <th>2   </th>\n",
       "      <td> R001</td>\n",
       "      <td>2011-05-01</td>\n",
       "      <td>  890</td>\n",
       "      <td>  9</td>\n",
       "    </tr>\n",
       "    <tr>\n",
       "      <th>3   </th>\n",
       "      <td> R001</td>\n",
       "      <td>2011-05-01</td>\n",
       "      <td> 2451</td>\n",
       "      <td> 13</td>\n",
       "    </tr>\n",
       "    <tr>\n",
       "      <th>4   </th>\n",
       "      <td> R001</td>\n",
       "      <td>2011-05-01</td>\n",
       "      <td> 4400</td>\n",
       "      <td> 17</td>\n",
       "    </tr>\n",
       "    <tr>\n",
       "      <th>...</th>\n",
       "      <td>...</td>\n",
       "      <td>...</td>\n",
       "      <td>...</td>\n",
       "      <td>...</td>\n",
       "    </tr>\n",
       "    <tr>\n",
       "      <th>7995</th>\n",
       "      <td> R547</td>\n",
       "      <td>2011-05-02</td>\n",
       "      <td>  242</td>\n",
       "      <td> 21</td>\n",
       "    </tr>\n",
       "    <tr>\n",
       "      <th>7996</th>\n",
       "      <td> R547</td>\n",
       "      <td>2011-05-02</td>\n",
       "      <td>  667</td>\n",
       "      <td> 21</td>\n",
       "    </tr>\n",
       "    <tr>\n",
       "      <th>7997</th>\n",
       "      <td> R547</td>\n",
       "      <td>2011-05-02</td>\n",
       "      <td>   50</td>\n",
       "      <td> 22</td>\n",
       "    </tr>\n",
       "    <tr>\n",
       "      <th>7998</th>\n",
       "      <td> R547</td>\n",
       "      <td>2011-05-02</td>\n",
       "      <td>  277</td>\n",
       "      <td> 22</td>\n",
       "    </tr>\n",
       "    <tr>\n",
       "      <th>7999</th>\n",
       "      <td> R548</td>\n",
       "      <td>2011-05-02</td>\n",
       "      <td>  158</td>\n",
       "      <td>  0</td>\n",
       "    </tr>\n",
       "  </tbody>\n",
       "</table>\n",
       "<p>8000 rows × 4 columns</p>\n",
       "</div>"
      ],
      "text/plain": [
       "      UNIT       date  ENTRIESn_hourly  Hour\n",
       "0     R001 2011-05-01                0     1\n",
       "1     R001 2011-05-01              217     5\n",
       "2     R001 2011-05-01              890     9\n",
       "3     R001 2011-05-01             2451    13\n",
       "4     R001 2011-05-01             4400    17\n",
       "...    ...        ...              ...   ...\n",
       "7995  R547 2011-05-02              242    21\n",
       "7996  R547 2011-05-02              667    21\n",
       "7997  R547 2011-05-02               50    22\n",
       "7998  R547 2011-05-02              277    22\n",
       "7999  R548 2011-05-02              158     0\n",
       "\n",
       "[8000 rows x 4 columns]"
      ]
     },
     "execution_count": 22,
     "metadata": {},
     "output_type": "execute_result"
    }
   ],
   "source": [
    "df2.head(8000)"
   ]
  },
  {
   "cell_type": "code",
   "execution_count": 23,
   "metadata": {
    "collapsed": false
   },
   "outputs": [
    {
     "data": {
      "text/plain": [
       "0    1\n",
       "1    1\n",
       "2    1\n",
       "...\n",
       "131948    30\n",
       "131949    30\n",
       "131950    30\n",
       "Length: 131951, dtype: int64"
      ]
     },
     "execution_count": 23,
     "metadata": {},
     "output_type": "execute_result"
    }
   ],
   "source": [
    "d=df2['date'].dt.day\n",
    "d"
   ]
  },
  {
   "cell_type": "code",
   "execution_count": 24,
   "metadata": {
    "collapsed": false
   },
   "outputs": [
    {
     "data": {
      "text/plain": [
       "0    1\n",
       "1    2\n",
       "2    3\n",
       "...\n",
       "27    28\n",
       "28    29\n",
       "29    30\n",
       "Length: 30, dtype: int64"
      ]
     },
     "execution_count": 24,
     "metadata": {},
     "output_type": "execute_result"
    }
   ],
   "source": [
    "b=df2.groupby(('date'),as_index=False).sum()\n",
    "b.date.dt.day\n"
   ]
  },
  {
   "cell_type": "code",
   "execution_count": 25,
   "metadata": {
    "collapsed": false
   },
   "outputs": [
    {
     "data": {
      "text/plain": [
       "pandas.core.frame.DataFrame"
      ]
     },
     "execution_count": 25,
     "metadata": {},
     "output_type": "execute_result"
    }
   ],
   "source": [
    "type(b)\n"
   ]
  },
  {
   "cell_type": "code",
   "execution_count": 26,
   "metadata": {
    "collapsed": false
   },
   "outputs": [
    {
     "data": {
      "text/plain": [
       "<matplotlib.text.Text at 0xc8b6400>"
      ]
     },
     "execution_count": 26,
     "metadata": {},
     "output_type": "execute_result"
    },
    {
     "data": {
      "image/png": "[encoded data removed]",
      "text/plain": [
       "<matplotlib.figure.Figure at 0xc7e7f98>"
      ]
     },
     "metadata": {},
     "output_type": "display_data"
    }
   ],
   "source": [
    "plt.bar(list(range(1,31)),b.ENTRIESn_hourly)\n",
    "plt.xlabel(\"date\")"
   ]
  },
  {
   "cell_type": "code",
   "execution_count": 27,
   "metadata": {
    "collapsed": false
   },
   "outputs": [],
   "source": [
    "df3=df2[['UNIT','ENTRIESn_hourly']]"
   ]
  },
  {
   "cell_type": "code",
   "execution_count": 28,
   "metadata": {
    "collapsed": false
   },
   "outputs": [],
   "source": [
    "u=df3.groupby(('UNIT'),as_index=False).sum()\n",
    "#top=u.ENTRIESn_hourly.order(ascending=False)\n",
    "#u.head(5)\n",
    "u['ENTRIESn_hourly']=u.ENTRIESn_hourly/30\n",
    "top=u.sort_index(ascending=False,by=['ENTRIESn_hourly'])\n",
    "top=top.set_index('UNIT')"
   ]
  },
  {
   "cell_type": "code",
   "execution_count": 29,
   "metadata": {
    "collapsed": false
   },
   "outputs": [
    {
     "data": {
      "text/plain": [
       "<matplotlib.axes._subplots.AxesSubplot at 0xcdb1d30>"
      ]
     },
     "execution_count": 29,
     "metadata": {},
     "output_type": "execute_result"
    },
    {
     "data": {
      "image/png": "[encoded data removed]",
      "text/plain": [
       "<matplotlib.figure.Figure at 0xcdc1710>"
      ]
     },
     "metadata": {},
     "output_type": "display_data"
    }
   ],
   "source": [
    "top[:20].plot(kind='bar')"
   ]
  },
  {
   "cell_type": "code",
   "execution_count": 30,
   "metadata": {
    "collapsed": false
   },
   "outputs": [],
   "source": [
    "df4=df[['UNIT','ENTRIESn_hourly','Hour']]\n"
   ]
  },
  {
   "cell_type": "code",
   "execution_count": 31,
   "metadata": {
    "collapsed": false
   },
   "outputs": [
    {
     "data": {
      "text/plain": [
       "['R170', 'R084', 'R022', 'R033', 'R046']"
      ]
     },
     "execution_count": 31,
     "metadata": {},
     "output_type": "execute_result"
    }
   ],
   "source": [
    "top_station=['R170','R084','R022','R033','R046']\n",
    "top_station"
   ]
  },
  {
   "cell_type": "code",
   "execution_count": 32,
   "metadata": {
    "collapsed": false
   },
   "outputs": [
    {
     "data": {
      "text/html": [
       "<div style=\"max-height:1000px;max-width:1500px;overflow:auto;\">\n",
       "<table border=\"1\" class=\"dataframe\">\n",
       "  <thead>\n",
       "    <tr style=\"text-align: right;\">\n",
       "      <th></th>\n",
       "      <th>ENTRIESn_hourly</th>\n",
       "    </tr>\n",
       "    <tr>\n",
       "      <th>UNIT</th>\n",
       "      <th></th>\n",
       "    </tr>\n",
       "  </thead>\n",
       "  <tbody>\n",
       "    <tr>\n",
       "      <th>R170</th>\n",
       "      <td> 96263.933333</td>\n",
       "    </tr>\n",
       "    <tr>\n",
       "      <th>R084</th>\n",
       "      <td> 60314.100000</td>\n",
       "    </tr>\n",
       "    <tr>\n",
       "      <th>R022</th>\n",
       "      <td> 59897.733333</td>\n",
       "    </tr>\n",
       "    <tr>\n",
       "      <th>R033</th>\n",
       "      <td> 57055.433333</td>\n",
       "    </tr>\n",
       "    <tr>\n",
       "      <th>R046</th>\n",
       "      <td> 56505.000000</td>\n",
       "    </tr>\n",
       "  </tbody>\n",
       "</table>\n",
       "</div>"
      ],
      "text/plain": [
       "      ENTRIESn_hourly\n",
       "UNIT                 \n",
       "R170     96263.933333\n",
       "R084     60314.100000\n",
       "R022     59897.733333\n",
       "R033     57055.433333\n",
       "R046     56505.000000"
      ]
     },
     "execution_count": 32,
     "metadata": {},
     "output_type": "execute_result"
    }
   ],
   "source": [
    "top.head(5)\n"
   ]
  },
  {
   "cell_type": "code",
   "execution_count": 33,
   "metadata": {
    "collapsed": false
   },
   "outputs": [],
   "source": [
    "improve_data=pd.read_csv(r'C:\\Users\\karthik\\Downloads\\improved-dataset\\improved-dataset\\turnstile_weather_v2.csv')"
   ]
  },
  {
   "cell_type": "code",
   "execution_count": 34,
   "metadata": {
    "collapsed": false
   },
   "outputs": [],
   "source": [
    "a=improve_data['UNIT']=='ROO3'\n",
    "improve_data=improve_data[['hour','ENTRIESn']]"
   ]
  },
  {
   "cell_type": "code",
   "execution_count": 35,
   "metadata": {
    "collapsed": false
   },
   "outputs": [
    {
     "data": {
      "text/html": [
       "<div style=\"max-height:1000px;max-width:1500px;overflow:auto;\">\n",
       "<table border=\"1\" class=\"dataframe\">\n",
       "  <thead>\n",
       "    <tr style=\"text-align: right;\">\n",
       "      <th></th>\n",
       "      <th>ENTRIESn</th>\n",
       "    </tr>\n",
       "    <tr>\n",
       "      <th>hour</th>\n",
       "      <th></th>\n",
       "    </tr>\n",
       "  </thead>\n",
       "  <tbody>\n",
       "    <tr>\n",
       "      <th>0 </th>\n",
       "      <td> 216862631393</td>\n",
       "    </tr>\n",
       "    <tr>\n",
       "      <th>4 </th>\n",
       "      <td> 229520337472</td>\n",
       "    </tr>\n",
       "    <tr>\n",
       "      <th>8 </th>\n",
       "      <td> 120606392772</td>\n",
       "    </tr>\n",
       "    <tr>\n",
       "      <th>12</th>\n",
       "      <td> 211938175384</td>\n",
       "    </tr>\n",
       "    <tr>\n",
       "      <th>16</th>\n",
       "      <td> 208696319376</td>\n",
       "    </tr>\n",
       "    <tr>\n",
       "      <th>20</th>\n",
       "      <td> 211873138374</td>\n",
       "    </tr>\n",
       "  </tbody>\n",
       "</table>\n",
       "</div>"
      ],
      "text/plain": [
       "          ENTRIESn\n",
       "hour              \n",
       "0     216862631393\n",
       "4     229520337472\n",
       "8     120606392772\n",
       "12    211938175384\n",
       "16    208696319376\n",
       "20    211873138374"
      ]
     },
     "execution_count": 35,
     "metadata": {},
     "output_type": "execute_result"
    }
   ],
   "source": [
    "a=improve_data.groupby('hour').sum()\n",
    "a"
   ]
  },
  {
   "cell_type": "code",
   "execution_count": 36,
   "metadata": {
    "collapsed": false
   },
   "outputs": [
    {
     "data": {
      "text/plain": [
       "<matplotlib.axes._subplots.AxesSubplot at 0xd8504e0>"
      ]
     },
     "execution_count": 36,
     "metadata": {},
     "output_type": "execute_result"
    },
    {
     "data": {
      "image/png": "[encoded data removed]",
      "text/plain": [
       "<matplotlib.figure.Figure at 0xd607a90>"
      ]
     },
     "metadata": {},
     "output_type": "display_data"
    }
   ],
   "source": [
    "a.plot(kind='bar')"
   ]
  },
  {
   "cell_type": "code",
   "execution_count": 37,
   "metadata": {
    "collapsed": false
   },
   "outputs": [
    {
     "data": {
      "text/html": [
       "<div style=\"max-height:1000px;max-width:1500px;overflow:auto;\">\n",
       "<table border=\"1\" class=\"dataframe\">\n",
       "  <thead>\n",
       "    <tr style=\"text-align: right;\">\n",
       "      <th></th>\n",
       "      <th>UNIT</th>\n",
       "      <th>ENTRIESn_hourly</th>\n",
       "      <th>Hour</th>\n",
       "    </tr>\n",
       "  </thead>\n",
       "  <tbody>\n",
       "    <tr>\n",
       "      <th>0     </th>\n",
       "      <td> R001</td>\n",
       "      <td>    0</td>\n",
       "      <td>  1</td>\n",
       "    </tr>\n",
       "    <tr>\n",
       "      <th>1     </th>\n",
       "      <td> R001</td>\n",
       "      <td>  217</td>\n",
       "      <td>  5</td>\n",
       "    </tr>\n",
       "    <tr>\n",
       "      <th>2     </th>\n",
       "      <td> R001</td>\n",
       "      <td>  890</td>\n",
       "      <td>  9</td>\n",
       "    </tr>\n",
       "    <tr>\n",
       "      <th>3     </th>\n",
       "      <td> R001</td>\n",
       "      <td> 2451</td>\n",
       "      <td> 13</td>\n",
       "    </tr>\n",
       "    <tr>\n",
       "      <th>4     </th>\n",
       "      <td> R001</td>\n",
       "      <td> 4400</td>\n",
       "      <td> 17</td>\n",
       "    </tr>\n",
       "    <tr>\n",
       "      <th>...</th>\n",
       "      <td>...</td>\n",
       "      <td>...</td>\n",
       "      <td>...</td>\n",
       "    </tr>\n",
       "    <tr>\n",
       "      <th>131946</th>\n",
       "      <td> R552</td>\n",
       "      <td>   19</td>\n",
       "      <td> 23</td>\n",
       "    </tr>\n",
       "    <tr>\n",
       "      <th>131947</th>\n",
       "      <td> R552</td>\n",
       "      <td>  158</td>\n",
       "      <td> 23</td>\n",
       "    </tr>\n",
       "    <tr>\n",
       "      <th>131948</th>\n",
       "      <td> R552</td>\n",
       "      <td>   54</td>\n",
       "      <td> 23</td>\n",
       "    </tr>\n",
       "    <tr>\n",
       "      <th>131949</th>\n",
       "      <td> R552</td>\n",
       "      <td>   59</td>\n",
       "      <td> 23</td>\n",
       "    </tr>\n",
       "    <tr>\n",
       "      <th>131950</th>\n",
       "      <td> R552</td>\n",
       "      <td>  123</td>\n",
       "      <td> 23</td>\n",
       "    </tr>\n",
       "  </tbody>\n",
       "</table>\n",
       "<p>131951 rows × 3 columns</p>\n",
       "</div>"
      ],
      "text/plain": [
       "        UNIT  ENTRIESn_hourly  Hour\n",
       "0       R001                0     1\n",
       "1       R001              217     5\n",
       "2       R001              890     9\n",
       "3       R001             2451    13\n",
       "4       R001             4400    17\n",
       "...      ...              ...   ...\n",
       "131946  R552               19    23\n",
       "131947  R552              158    23\n",
       "131948  R552               54    23\n",
       "131949  R552               59    23\n",
       "131950  R552              123    23\n",
       "\n",
       "[131951 rows x 3 columns]"
      ]
     },
     "execution_count": 37,
     "metadata": {},
     "output_type": "execute_result"
    }
   ],
   "source": [
    "df4"
   ]
  },
  {
   "cell_type": "code",
   "execution_count": 38,
   "metadata": {
    "collapsed": false
   },
   "outputs": [],
   "source": [
    "q=df4[df4.UNIT=='R170']"
   ]
  },
  {
   "cell_type": "code",
   "execution_count": 39,
   "metadata": {
    "collapsed": false
   },
   "outputs": [
    {
     "data": {
      "text/html": [
       "<div style=\"max-height:1000px;max-width:1500px;overflow:auto;\">\n",
       "<table border=\"1\" class=\"dataframe\">\n",
       "  <thead>\n",
       "    <tr style=\"text-align: right;\">\n",
       "      <th></th>\n",
       "      <th>UNIT</th>\n",
       "      <th>ENTRIESn_hourly</th>\n",
       "      <th>Hour</th>\n",
       "    </tr>\n",
       "  </thead>\n",
       "  <tbody>\n",
       "    <tr>\n",
       "      <th>979   </th>\n",
       "      <td> R170</td>\n",
       "      <td>     0</td>\n",
       "      <td>  1</td>\n",
       "    </tr>\n",
       "    <tr>\n",
       "      <th>980   </th>\n",
       "      <td> R170</td>\n",
       "      <td>  4762</td>\n",
       "      <td>  5</td>\n",
       "    </tr>\n",
       "    <tr>\n",
       "      <th>981   </th>\n",
       "      <td> R170</td>\n",
       "      <td>  1774</td>\n",
       "      <td>  9</td>\n",
       "    </tr>\n",
       "    <tr>\n",
       "      <th>982   </th>\n",
       "      <td> R170</td>\n",
       "      <td>  8118</td>\n",
       "      <td> 13</td>\n",
       "    </tr>\n",
       "    <tr>\n",
       "      <th>983   </th>\n",
       "      <td> R170</td>\n",
       "      <td> 18906</td>\n",
       "      <td> 17</td>\n",
       "    </tr>\n",
       "    <tr>\n",
       "      <th>...</th>\n",
       "      <td>...</td>\n",
       "      <td>...</td>\n",
       "      <td>...</td>\n",
       "    </tr>\n",
       "    <tr>\n",
       "      <th>128584</th>\n",
       "      <td> R170</td>\n",
       "      <td>  1520</td>\n",
       "      <td>  9</td>\n",
       "    </tr>\n",
       "    <tr>\n",
       "      <th>128585</th>\n",
       "      <td> R170</td>\n",
       "      <td>  6674</td>\n",
       "      <td> 13</td>\n",
       "    </tr>\n",
       "    <tr>\n",
       "      <th>128586</th>\n",
       "      <td> R170</td>\n",
       "      <td>     3</td>\n",
       "      <td> 13</td>\n",
       "    </tr>\n",
       "    <tr>\n",
       "      <th>128587</th>\n",
       "      <td> R170</td>\n",
       "      <td> 17175</td>\n",
       "      <td> 17</td>\n",
       "    </tr>\n",
       "    <tr>\n",
       "      <th>128588</th>\n",
       "      <td> R170</td>\n",
       "      <td> 17522</td>\n",
       "      <td> 21</td>\n",
       "    </tr>\n",
       "  </tbody>\n",
       "</table>\n",
       "<p>243 rows × 3 columns</p>\n",
       "</div>"
      ],
      "text/plain": [
       "        UNIT  ENTRIESn_hourly  Hour\n",
       "979     R170                0     1\n",
       "980     R170             4762     5\n",
       "981     R170             1774     9\n",
       "982     R170             8118    13\n",
       "983     R170            18906    17\n",
       "...      ...              ...   ...\n",
       "128584  R170             1520     9\n",
       "128585  R170             6674    13\n",
       "128586  R170                3    13\n",
       "128587  R170            17175    17\n",
       "128588  R170            17522    21\n",
       "\n",
       "[243 rows x 3 columns]"
      ]
     },
     "execution_count": 39,
     "metadata": {},
     "output_type": "execute_result"
    }
   ],
   "source": [
    "q"
   ]
  },
  {
   "cell_type": "code",
   "execution_count": 40,
   "metadata": {
    "collapsed": false
   },
   "outputs": [],
   "source": [
    "z=q[['ENTRIESn_hourly','Hour']]"
   ]
  },
  {
   "cell_type": "code",
   "execution_count": 41,
   "metadata": {
    "collapsed": true
   },
   "outputs": [],
   "source": [
    "w=z.groupby('Hour')"
   ]
  },
  {
   "cell_type": "code",
   "execution_count": 42,
   "metadata": {
    "collapsed": false
   },
   "outputs": [
    {
     "name": "stdout",
     "output_type": "stream",
     "text": [
      "1\n",
      "        ENTRIESn_hourly  Hour\n",
      "979                   0     1\n",
      "5477               9637     1\n",
      "9928              17124     1\n",
      "14338             16664     1\n",
      "18793             15835     1\n",
      "...                 ...   ...\n",
      "111158            17902     1\n",
      "115623            20210     1\n",
      "119886            19330     1\n",
      "124212            15237     1\n",
      "128582            12565     1\n",
      "\n",
      "[33 rows x 2 columns]\n",
      "5\n",
      "        ENTRIESn_hourly  Hour\n",
      "980                4762     5\n",
      "5478               1239     5\n",
      "9929               7523     5\n",
      "14339              8612     5\n",
      "18794              1336     5\n",
      "...                 ...   ...\n",
      "111159             4195     5\n",
      "115624             5178     5\n",
      "119887             4125     5\n",
      "124213             4219     5\n",
      "128583             2523     5\n",
      "\n",
      "[30 rows x 2 columns]\n",
      "7\n",
      "       ENTRIESn_hourly  Hour\n",
      "14340                0     7\n",
      "36297               16     7\n",
      "49538              157     7\n",
      "49539              143     7\n",
      "67022               40     7\n",
      "97905              158     7\n",
      "8\n",
      "       ENTRIESn_hourly  Hour\n",
      "14341              310     8\n",
      "36298               35     8\n",
      "9\n",
      "        ENTRIESn_hourly  Hour\n",
      "981                1774     9\n",
      "5479               8464     9\n",
      "9930               8872     9\n",
      "14342              8876     9\n",
      "18795              9582     9\n",
      "...                 ...   ...\n",
      "111160             7981     9\n",
      "115625             7324     9\n",
      "119888             2329     9\n",
      "124214             1617     9\n",
      "128584             1520     9\n",
      "\n",
      "[32 rows x 2 columns]\n",
      "10\n",
      "       ENTRIESn_hourly  Hour\n",
      "45135              384    10\n",
      "49541              275    10\n",
      "67024              174    10\n",
      "75911              325    10\n",
      "11\n",
      "        ENTRIESn_hourly  Hour\n",
      "54036               379    11\n",
      "58307               299    11\n",
      "106703              467    11\n",
      "115626              329    11\n",
      "12\n",
      "        ENTRIESn_hourly  Hour\n",
      "14343               259    12\n",
      "23296               321    12\n",
      "111161              488    12\n",
      "13\n",
      "        ENTRIESn_hourly  Hour\n",
      "982                8118    13\n",
      "5480              10770    13\n",
      "9931              13969    13\n",
      "9932                406    13\n",
      "14344             14340    13\n",
      "...                 ...   ...\n",
      "115628              273    13\n",
      "119889             8955    13\n",
      "124215             6483    13\n",
      "128585             6674    13\n",
      "128586                3    13\n",
      "\n",
      "[40 rows x 2 columns]\n",
      "14\n",
      "        ENTRIESn_hourly  Hour\n",
      "49543               436    14\n",
      "54038              1889    14\n",
      "54039               408    14\n",
      "80301               169    14\n",
      "84790               445    14\n",
      "93462               194    14\n",
      "124216              632    14\n",
      "15\n",
      "       ENTRIESn_hourly  Hour\n",
      "31918              642    15\n",
      "16\n",
      "       ENTRIESn_hourly  Hour\n",
      "23298             4166    16\n",
      "62613              328    16\n",
      "17\n",
      "        ENTRIESn_hourly  Hour\n",
      "983               18906    17\n",
      "5481              21960    17\n",
      "9933              21560    17\n",
      "9934                693    17\n",
      "14346             24978    17\n",
      "...                 ...   ...\n",
      "111164             1035    17\n",
      "115629            34733    17\n",
      "119890            20909    17\n",
      "124217            16892    17\n",
      "128587            17175    17\n",
      "\n",
      "[41 rows x 2 columns]\n",
      "18\n",
      "       ENTRIESn_hourly  Hour\n",
      "75915              784    18\n",
      "21\n",
      "        ENTRIESn_hourly  Hour\n",
      "984               20362    21\n",
      "5482              36685    21\n",
      "9935              37604    21\n",
      "14348             37585    21\n",
      "18799             39205    21\n",
      "...                 ...   ...\n",
      "111165            36526    21\n",
      "115630            32647    21\n",
      "119891            22179    21\n",
      "124218            18214    21\n",
      "128588            17522    21\n",
      "\n",
      "[32 rows x 2 columns]\n",
      "22\n",
      "       ENTRIESn_hourly  Hour\n",
      "9936               988    22\n",
      "89106             2436    22\n",
      "93465              904    22\n",
      "23\n",
      "       ENTRIESn_hourly  Hour\n",
      "40756             2304    23\n",
      "45139             2340    23\n"
     ]
    }
   ],
   "source": [
    "for key , da in w:\n",
    "    print (key) \n",
    "    print (da)"
   ]
  },
  {
   "cell_type": "code",
   "execution_count": 43,
   "metadata": {
    "collapsed": false
   },
   "outputs": [
    {
     "data": {
      "text/plain": [
       "array([ 1,  5,  9, 13, 17, 21,  1,  5,  9, 13, 17, 21,  1,  5,  9, 13, 13,\n",
       "       17, 17, 21, 22,  1,  5,  7,  8,  9, 12, 13, 13, 17, 17, 21,  1,  5,\n",
       "        9, 13, 17, 17, 21,  1,  5,  9, 12, 13, 16, 17, 21, 21,  1,  5,  9,\n",
       "       13, 13, 17, 21,  1,  5,  9, 13, 15, 17, 21,  1,  5,  7,  8,  9, 13,\n",
       "       13, 17, 17, 21,  1,  5,  9,  9, 13, 17, 21, 23,  1,  5,  9, 10, 13,\n",
       "       17, 21, 23,  1,  5,  7,  7,  9, 10, 13, 14, 17, 17, 21,  1,  5,  9,\n",
       "       11, 13, 14, 14, 17, 17, 21,  1,  1,  5,  9, 11, 13, 17, 17, 21,  1,\n",
       "        1,  5,  9, 13, 16, 17, 21, 21,  1,  5,  7,  9, 10, 13, 13, 17, 17,\n",
       "       21,  1,  5,  9, 13, 13, 17, 21,  1,  5,  9, 10, 13, 13, 17, 18, 21,\n",
       "        1,  1,  5,  9, 13, 14, 17, 17, 21,  1,  5,  9,  9, 13, 14, 17, 17,\n",
       "       21,  1,  5,  9, 13, 17, 21, 22,  1,  5,  9, 13, 14, 17, 21, 22,  1,\n",
       "        5,  7,  9, 13, 17, 21,  1,  5,  9, 13, 17, 21,  1,  5,  9, 11, 13,\n",
       "       13, 17, 21,  1,  5,  9, 12, 13, 17, 17, 21,  1,  5,  9, 11, 13, 13,\n",
       "       17, 21,  1,  5,  9, 13, 17, 21,  1,  5,  9, 13, 14, 17, 21,  1,  5,\n",
       "        9, 13, 13, 17, 21], dtype=int64)"
      ]
     },
     "execution_count": 43,
     "metadata": {},
     "output_type": "execute_result"
    }
   ],
   "source": [
    "z.Hour.values"
   ]
  },
  {
   "cell_type": "code",
   "execution_count": 44,
   "metadata": {
    "collapsed": false
   },
   "outputs": [],
   "source": [
    "data=pd.read_csv(r'C:\\Users\\karthik\\Downloads\\turnstile_data_master_with_weather.csv')"
   ]
  },
  {
   "cell_type": "code",
   "execution_count": 45,
   "metadata": {
    "collapsed": false
   },
   "outputs": [
    {
     "data": {
      "text/plain": [
       "Index(['Unnamed: 0', 'UNIT', 'DATEn', 'TIMEn', 'Hour', 'DESCn', 'ENTRIESn_hourly', 'EXITSn_hourly', 'maxpressurei', 'maxdewpti', 'mindewpti', 'minpressurei', 'meandewpti', 'meanpressurei', 'fog', 'rain', 'meanwindspdi', 'mintempi', 'meantempi', 'maxtempi', 'precipi', 'thunder'], dtype='object')"
      ]
     },
     "execution_count": 45,
     "metadata": {},
     "output_type": "execute_result"
    }
   ],
   "source": [
    "data.columns\n"
   ]
  },
  {
   "cell_type": "code",
   "execution_count": 46,
   "metadata": {
    "collapsed": true
   },
   "outputs": [],
   "source": [
    "rain=data[['ENTRIESn_hourly','rain']][data['rain']==1]\n",
    "no_rain= data[['ENTRIESn_hourly','rain']][data['rain']==0]"
   ]
  },
  {
   "cell_type": "code",
   "execution_count": 47,
   "metadata": {
    "collapsed": false
   },
   "outputs": [],
   "source": [
    "rain=rain.reset_index()\n",
    "no_rain=no_rain.reset_index()"
   ]
  },
  {
   "cell_type": "code",
   "execution_count": 48,
   "metadata": {
    "collapsed": false
   },
   "outputs": [
    {
     "data": {
      "image/png": "[encoded data removed]",
      "text/plain": [
       "<matplotlib.figure.Figure at 0xe7216a0>"
      ]
     },
     "metadata": {},
     "output_type": "display_data"
    }
   ],
   "source": [
    "plt.hist(rain.ENTRIESn_hourly,bins=150,alpha=.50,label='rain')\n",
    "plt.hist(no_rain.ENTRIESn_hourly,bins=150,alpha=.50,label='no_rain')\n",
    "plt.xlabel('ENTRIESn_hourly')\n",
    "plt.xlim(0,11000)\n",
    "plt.legend(loc='upper right')\n",
    "plt.show()\n",
    "\n",
    "#plt.title('rainy_day')\n"
   ]
  },
  {
   "cell_type": "code",
   "execution_count": 49,
   "metadata": {
    "collapsed": false
   },
   "outputs": [
    {
     "data": {
      "image/png": "[encoded data removed]",
      "text/plain": [
       "<matplotlib.figure.Figure at 0xe721128>"
      ]
     },
     "metadata": {},
     "output_type": "display_data"
    }
   ],
   "source": [
    "plt.hist(no_rain['ENTRIESn_hourly'])\n",
    "plt.xlabel('ENTRIESn_hourly')\n",
    "plt.title('sunny_day')\n",
    "plt.xscale('linear')"
   ]
  },
  {
   "cell_type": "code",
   "execution_count": 50,
   "metadata": {
    "collapsed": false
   },
   "outputs": [
    {
     "data": {
      "text/plain": [
       "0    1132\n",
       "1     164\n",
       "2     647\n",
       "...\n",
       "44101     54\n",
       "44102     59\n",
       "44103    123\n",
       "Name: ENTRIESn_hourly, Length: 44104, dtype: float64"
      ]
     },
     "execution_count": 50,
     "metadata": {},
     "output_type": "execute_result"
    }
   ],
   "source": [
    "rain.ENTRIESn_hourly"
   ]
  }
 ],
 "metadata": {
  "kernelspec": {
   "display_name": "Python 2",
   "language": "python",
   "name": "python2"
  },
  "language_info": {
   "codemirror_mode": {
    "name": "ipython",
    "version": 2
   },
   "file_extension": ".py",
   "mimetype": "text/x-python",
   "name": "python",
   "nbconvert_exporter": "python",
   "pygments_lexer": "ipython2",
   "version": "2.7.11"
  }
 },
 "nbformat": 4,
 "nbformat_minor": 0
}
